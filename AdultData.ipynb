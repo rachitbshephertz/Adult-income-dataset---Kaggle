{
 "cells": [
  {
   "cell_type": "markdown",
   "metadata": {},
   "source": [
    "# AdultData (Shephertz Technologies)"
   ]
  },
  {
   "cell_type": "code",
   "execution_count": 1,
   "metadata": {
    "collapsed": true
   },
   "outputs": [],
   "source": [
    "#importing the libraries\n",
    "import numpy as np\n",
    "import pandas as pd\n",
    "\n",
    "from sklearn.model_selection import KFold \n",
    "from sklearn.model_selection import cross_val_score\n",
    "\n",
    "from sklearn.tree import DecisionTreeClassifier\n",
    "import sklearn.ensemble as ske \n",
    "\n",
    "import matplotlib.pyplot as plt\n",
    "\n",
    "%matplotlib inline"
   ]
  },
  {
   "cell_type": "markdown",
   "metadata": {},
   "source": [
    "The Adultdata.xlsx dataset contains 13 different attributes of an individual such as his/her Workclass, Education, Marital Status, etc. and on target variable. The target variable specifies whether that individuals salary is less than or more than 50K."
   ]
  },
  {
   "cell_type": "code",
   "execution_count": 2,
   "metadata": {},
   "outputs": [
    {
     "data": {
      "text/html": [
       "<div>\n",
       "<style>\n",
       "    .dataframe thead tr:only-child th {\n",
       "        text-align: right;\n",
       "    }\n",
       "\n",
       "    .dataframe thead th {\n",
       "        text-align: left;\n",
       "    }\n",
       "\n",
       "    .dataframe tbody tr th {\n",
       "        vertical-align: top;\n",
       "    }\n",
       "</style>\n",
       "<table border=\"1\" class=\"dataframe\">\n",
       "  <thead>\n",
       "    <tr style=\"text-align: right;\">\n",
       "      <th></th>\n",
       "      <th>Age</th>\n",
       "      <th>Workclass</th>\n",
       "      <th>fnlwgt</th>\n",
       "      <th>Education</th>\n",
       "      <th>Education-Num</th>\n",
       "      <th>Martial Status</th>\n",
       "      <th>Occupation</th>\n",
       "      <th>Relationship</th>\n",
       "      <th>Race</th>\n",
       "      <th>Sex</th>\n",
       "      <th>Capital Gain</th>\n",
       "      <th>Capital Loss</th>\n",
       "      <th>Hours per week</th>\n",
       "      <th>Country</th>\n",
       "      <th>Target</th>\n",
       "    </tr>\n",
       "  </thead>\n",
       "  <tbody>\n",
       "    <tr>\n",
       "      <th>0</th>\n",
       "      <td>39</td>\n",
       "      <td>State-gov</td>\n",
       "      <td>77516</td>\n",
       "      <td>Bachelors</td>\n",
       "      <td>13</td>\n",
       "      <td>Never-married</td>\n",
       "      <td>Adm-clerical</td>\n",
       "      <td>Not-in-family</td>\n",
       "      <td>White</td>\n",
       "      <td>Male</td>\n",
       "      <td>2174.0</td>\n",
       "      <td>0.0</td>\n",
       "      <td>40.0</td>\n",
       "      <td>United-States</td>\n",
       "      <td>&lt;=50K</td>\n",
       "    </tr>\n",
       "    <tr>\n",
       "      <th>1</th>\n",
       "      <td>50</td>\n",
       "      <td>Self-emp-not-inc</td>\n",
       "      <td>83311</td>\n",
       "      <td>Bachelors</td>\n",
       "      <td>13</td>\n",
       "      <td>Married-civ-spouse</td>\n",
       "      <td>Exec-managerial</td>\n",
       "      <td>Husband</td>\n",
       "      <td>White</td>\n",
       "      <td>Male</td>\n",
       "      <td>0.0</td>\n",
       "      <td>0.0</td>\n",
       "      <td>13.0</td>\n",
       "      <td>United-States</td>\n",
       "      <td>&lt;=50K</td>\n",
       "    </tr>\n",
       "    <tr>\n",
       "      <th>2</th>\n",
       "      <td>38</td>\n",
       "      <td>Private</td>\n",
       "      <td>215646</td>\n",
       "      <td>HS-grad</td>\n",
       "      <td>9</td>\n",
       "      <td>Divorced</td>\n",
       "      <td>Handlers-cleaners</td>\n",
       "      <td>Not-in-family</td>\n",
       "      <td>White</td>\n",
       "      <td>Male</td>\n",
       "      <td>0.0</td>\n",
       "      <td>0.0</td>\n",
       "      <td>40.0</td>\n",
       "      <td>United-States</td>\n",
       "      <td>&lt;=50K</td>\n",
       "    </tr>\n",
       "    <tr>\n",
       "      <th>3</th>\n",
       "      <td>53</td>\n",
       "      <td>Private</td>\n",
       "      <td>234721</td>\n",
       "      <td>11th</td>\n",
       "      <td>7</td>\n",
       "      <td>Married-civ-spouse</td>\n",
       "      <td>Handlers-cleaners</td>\n",
       "      <td>Husband</td>\n",
       "      <td>Black</td>\n",
       "      <td>Male</td>\n",
       "      <td>0.0</td>\n",
       "      <td>0.0</td>\n",
       "      <td>40.0</td>\n",
       "      <td>United-States</td>\n",
       "      <td>&lt;=50K</td>\n",
       "    </tr>\n",
       "    <tr>\n",
       "      <th>4</th>\n",
       "      <td>28</td>\n",
       "      <td>Private</td>\n",
       "      <td>338409</td>\n",
       "      <td>Bachelors</td>\n",
       "      <td>13</td>\n",
       "      <td>Married-civ-spouse</td>\n",
       "      <td>Prof-specialty</td>\n",
       "      <td>Wife</td>\n",
       "      <td>Black</td>\n",
       "      <td>Female</td>\n",
       "      <td>0.0</td>\n",
       "      <td>0.0</td>\n",
       "      <td>40.0</td>\n",
       "      <td>Cuba</td>\n",
       "      <td>&lt;=50K</td>\n",
       "    </tr>\n",
       "  </tbody>\n",
       "</table>\n",
       "</div>"
      ],
      "text/plain": [
       "   Age          Workclass  fnlwgt   Education  Education-Num  \\\n",
       "0   39          State-gov   77516   Bachelors             13   \n",
       "1   50   Self-emp-not-inc   83311   Bachelors             13   \n",
       "2   38            Private  215646     HS-grad              9   \n",
       "3   53            Private  234721        11th              7   \n",
       "4   28            Private  338409   Bachelors             13   \n",
       "\n",
       "        Martial Status          Occupation    Relationship    Race      Sex  \\\n",
       "0        Never-married        Adm-clerical   Not-in-family   White     Male   \n",
       "1   Married-civ-spouse     Exec-managerial         Husband   White     Male   \n",
       "2             Divorced   Handlers-cleaners   Not-in-family   White     Male   \n",
       "3   Married-civ-spouse   Handlers-cleaners         Husband   Black     Male   \n",
       "4   Married-civ-spouse      Prof-specialty            Wife   Black   Female   \n",
       "\n",
       "   Capital Gain  Capital Loss  Hours per week         Country  Target  \n",
       "0        2174.0           0.0            40.0   United-States   <=50K  \n",
       "1           0.0           0.0            13.0   United-States   <=50K  \n",
       "2           0.0           0.0            40.0   United-States   <=50K  \n",
       "3           0.0           0.0            40.0   United-States   <=50K  \n",
       "4           0.0           0.0            40.0            Cuba   <=50K  "
      ]
     },
     "execution_count": 2,
     "metadata": {},
     "output_type": "execute_result"
    }
   ],
   "source": [
    "# reading the exel file\n",
    "data = pd.read_excel(\"C:/Users/hp/Desktop/Shephertz/Adultdata.xlsx\", sheet_name = 0, header = 0)\n",
    "data.head()                    "
   ]
  },
  {
   "cell_type": "markdown",
   "metadata": {},
   "source": [
    "## Data Preprocessing\n",
    "\n",
    "Checking and dropping the number of null values in our dataset."
   ]
  },
  {
   "cell_type": "code",
   "execution_count": 3,
   "metadata": {},
   "outputs": [
    {
     "name": "stdout",
     "output_type": "stream",
     "text": [
      "(1, 15)\n",
      "(19601, 15)\n"
     ]
    }
   ],
   "source": [
    "print(data[data.isnull().any(axis = 1)].shape)\n",
    "data = data.dropna()\n",
    "print(data.shape)"
   ]
  },
  {
   "cell_type": "code",
   "execution_count": 4,
   "metadata": {},
   "outputs": [
    {
     "data": {
      "text/plain": [
       "(19601, 15)"
      ]
     },
     "execution_count": 4,
     "metadata": {},
     "output_type": "execute_result"
    }
   ],
   "source": [
    "data = data.replace(' ?', np.nan)\n",
    "data.dropna()\n",
    "data.shape"
   ]
  },
  {
   "cell_type": "markdown",
   "metadata": {},
   "source": [
    "Understanding the data with **decriptive statistics**."
   ]
  },
  {
   "cell_type": "code",
   "execution_count": 5,
   "metadata": {},
   "outputs": [
    {
     "data": {
      "text/html": [
       "<div>\n",
       "<style>\n",
       "    .dataframe thead tr:only-child th {\n",
       "        text-align: right;\n",
       "    }\n",
       "\n",
       "    .dataframe thead th {\n",
       "        text-align: left;\n",
       "    }\n",
       "\n",
       "    .dataframe tbody tr th {\n",
       "        vertical-align: top;\n",
       "    }\n",
       "</style>\n",
       "<table border=\"1\" class=\"dataframe\">\n",
       "  <thead>\n",
       "    <tr style=\"text-align: right;\">\n",
       "      <th></th>\n",
       "      <th>Workclass</th>\n",
       "      <th>Education</th>\n",
       "      <th>Martial Status</th>\n",
       "      <th>Occupation</th>\n",
       "      <th>Relationship</th>\n",
       "      <th>Race</th>\n",
       "      <th>Sex</th>\n",
       "      <th>Country</th>\n",
       "      <th>Target</th>\n",
       "    </tr>\n",
       "  </thead>\n",
       "  <tbody>\n",
       "    <tr>\n",
       "      <th>count</th>\n",
       "      <td>18505</td>\n",
       "      <td>19601</td>\n",
       "      <td>19601</td>\n",
       "      <td>18502</td>\n",
       "      <td>19601</td>\n",
       "      <td>19601</td>\n",
       "      <td>19601</td>\n",
       "      <td>19250</td>\n",
       "      <td>19601</td>\n",
       "    </tr>\n",
       "    <tr>\n",
       "      <th>unique</th>\n",
       "      <td>8</td>\n",
       "      <td>16</td>\n",
       "      <td>7</td>\n",
       "      <td>14</td>\n",
       "      <td>6</td>\n",
       "      <td>5</td>\n",
       "      <td>2</td>\n",
       "      <td>40</td>\n",
       "      <td>2</td>\n",
       "    </tr>\n",
       "    <tr>\n",
       "      <th>top</th>\n",
       "      <td>Private</td>\n",
       "      <td>HS-grad</td>\n",
       "      <td>Married-civ-spouse</td>\n",
       "      <td>Prof-specialty</td>\n",
       "      <td>Husband</td>\n",
       "      <td>White</td>\n",
       "      <td>Male</td>\n",
       "      <td>United-States</td>\n",
       "      <td>&lt;=50K</td>\n",
       "    </tr>\n",
       "    <tr>\n",
       "      <th>freq</th>\n",
       "      <td>13630</td>\n",
       "      <td>6407</td>\n",
       "      <td>8974</td>\n",
       "      <td>2502</td>\n",
       "      <td>7876</td>\n",
       "      <td>16787</td>\n",
       "      <td>13106</td>\n",
       "      <td>17540</td>\n",
       "      <td>14923</td>\n",
       "    </tr>\n",
       "  </tbody>\n",
       "</table>\n",
       "</div>"
      ],
      "text/plain": [
       "       Workclass Education       Martial Status       Occupation Relationship  \\\n",
       "count      18505     19601                19601            18502        19601   \n",
       "unique         8        16                    7               14            6   \n",
       "top      Private   HS-grad   Married-civ-spouse   Prof-specialty      Husband   \n",
       "freq       13630      6407                 8974             2502         7876   \n",
       "\n",
       "          Race    Sex         Country  Target  \n",
       "count    19601  19601           19250   19601  \n",
       "unique       5      2              40       2  \n",
       "top      White   Male   United-States   <=50K  \n",
       "freq     16787  13106           17540   14923  "
      ]
     },
     "execution_count": 5,
     "metadata": {},
     "output_type": "execute_result"
    }
   ],
   "source": [
    "data[['Workclass', 'Education', 'Martial Status', 'Occupation', 'Relationship', 'Race', 'Sex', 'Country', 'Target']].describe()"
   ]
  },
  {
   "cell_type": "markdown",
   "metadata": {},
   "source": [
    "## Visualizing some insights\n",
    "\n",
    "We tried to gain some insights by statistically visualizing the *Adultdata*. \n",
    "\n",
    "Below is the code generating different pandas series for the number of each race earning a salary greater and lower than 50K."
   ]
  },
  {
   "cell_type": "code",
   "execution_count": 6,
   "metadata": {},
   "outputs": [
    {
     "name": "stdout",
     "output_type": "stream",
     "text": [
      "(14923, 15)\n",
      "(4678, 15)\n"
     ]
    }
   ],
   "source": [
    "# filter for salary less than 50K\n",
    "less_salary = data['Target'].str.contains('<=50K')\n",
    "low_sal = data[less_salary]\n",
    "print(low_sal.shape)\n",
    "\n",
    "#filter for salary more then 50K\n",
    "more_salary = data['Target'].str.contains('>50K')\n",
    "high_sal = data[more_salary]\n",
    "print(high_sal.shape)"
   ]
  },
  {
   "cell_type": "code",
   "execution_count": 7,
   "metadata": {},
   "outputs": [
    {
     "name": "stdout",
     "output_type": "stream",
     "text": [
      "                     Target\n",
      "Race                       \n",
      " Amer-Indian-Eskimo     171\n",
      " Asian-Pac-Islander     462\n",
      " Black                 1615\n",
      " Other                  153\n",
      " White                12522 \n",
      "\n",
      "                     Target\n",
      "Race                       \n",
      " Amer-Indian-Eskimo      19\n",
      " Asian-Pac-Islander     154\n",
      " Black                  227\n",
      " Other                   13\n",
      " White                 4265\n"
     ]
    }
   ],
   "source": [
    "# counting the number of each race of salary <=50k\n",
    "race_count1 = low_sal[['Target','Race']].groupby('Race').count()\n",
    "print(race_count1, '\\n')\n",
    "\n",
    "# counting the number of each race of salary >50k\n",
    "race_count2 = high_sal[['Target','Race']].groupby('Race').count()\n",
    "print(race_count2)"
   ]
  },
  {
   "cell_type": "markdown",
   "metadata": {},
   "source": [
    "Now we have the count of different Races earning salaries of lower and higher categories respectively. But, just the statistics are not enough to visualize the full picture clearly. We used matplotlib library to plot the data and gain a better understanding."
   ]
  },
  {
   "cell_type": "code",
   "execution_count": 8,
   "metadata": {},
   "outputs": [
    {
     "data": {
      "image/png": "[encoded data removed]",
      "text/plain": [
       "<matplotlib.figure.Figure at 0x21fc845b2e8>"
      ]
     },
     "metadata": {},
     "output_type": "display_data"
    }
   ],
   "source": [
    "values = list(race_count1[\"Target\"])\n",
    "names = list(race_count1.index)\n",
    "\n",
    "values2 = list(race_count2[\"Target\"])\n",
    "names2 = list(race_count2.index)\n",
    "\n",
    "plt.figure(1, figsize = (10,10))\n",
    "plt.bar(names, values)\n",
    "plt.bar(names, values2)\n",
    "\n",
    "plt.title('Frequency of each race earning salary <=50K (Blue) and >50K (Orange)')\n",
    "plt.xlabel('Races', size = 14)\n",
    "plt.ylabel('Count', size = 14)\n",
    "plt.show()"
   ]
  },
  {
   "cell_type": "markdown",
   "metadata": {},
   "source": [
    "It can be seen from the above bar graph that the White people are equally dominating in the number of peoples in both the salary categories. The share of Black people is far less in spite of being the largest local minority(12.1%) in the USA ( source: Wikipedia)"
   ]
  },
  {
   "cell_type": "code",
   "execution_count": 9,
   "metadata": {},
   "outputs": [
    {
     "name": "stdout",
     "output_type": "stream",
     "text": [
      "         Target\n",
      "Sex            \n",
      " Female    5786\n",
      " Male      9137 \n",
      "\n",
      "         Target\n",
      "Sex            \n",
      " Female     709\n",
      " Male      3969\n"
     ]
    },
    {
     "data": {
      "image/png": "[encoded data removed]",
      "text/plain": [
       "<matplotlib.figure.Figure at 0x21fc88ae240>"
      ]
     },
     "metadata": {},
     "output_type": "display_data"
    }
   ],
   "source": [
    "# counting the number of each sex of salary <=50k\n",
    "sex_count1 = low_sal[['Target','Sex']].groupby('Sex').count()\n",
    "print(sex_count1, '\\n')\n",
    "\n",
    "# counting the number of each sex of salary >50k\n",
    "sex_count2 = high_sal[['Target','Sex']].groupby('Sex').count()\n",
    "print(sex_count2)\n",
    "\n",
    "values = list(sex_count1[\"Target\"])\n",
    "names = list(sex_count1.index)\n",
    "\n",
    "values2 = list(sex_count2[\"Target\"])\n",
    "names2 = list(sex_count2.index)\n",
    "\n",
    "plt.figure(1, figsize = (5,5))\n",
    "plt.bar(names, values)\n",
    "plt.bar(names, values2)\n",
    "\n",
    "plt.title('Frequency of each sex earning salary <=50K (Blue) and >50K (Orange)')\n",
    "plt.xlabel('Races', size = 14)\n",
    "plt.ylabel('Count', size = 14)\n",
    "plt.show()"
   ]
  },
  {
   "cell_type": "markdown",
   "metadata": {},
   "source": [
    "Another significant finding is the share of women in high salary working class. The number of women getting paid higher than 50k is drastically less compared to the number of women in lower salary category.\n",
    "\n",
    "## Deploying Tree Algorithms\n",
    "\n",
    "Decision tree algorithms are deployed because they can work with both *qualitative* and *quantitative* types of variables we are having in our dataset."
   ]
  },
  {
   "cell_type": "markdown",
   "metadata": {},
   "source": [
    "### Converting features into categorical variables and coding\n",
    "\n",
    "For deploying machine learning classification algorithms it is necessary to transform the string lists into categorical variables. We can then form integer codes from those qualitative categorical variables which are better understood by the classifier."
   ]
  },
  {
   "cell_type": "code",
   "execution_count": 10,
   "metadata": {
    "collapsed": true
   },
   "outputs": [],
   "source": [
    "features = ['Workclass', 'Martial Status', 'Occupation', 'Relationship', 'Race', 'Sex', 'Country', 'Target']\n",
    "\n",
    "for column in features:\n",
    "    data[column] = data[column].astype(\"category\").cat.codes"
   ]
  },
  {
   "cell_type": "markdown",
   "metadata": {},
   "source": [
    "Deleting unnecessary features can save both time and effort. The data for features such as **Capital Gain** and **Capital Loss** is of no use in the prediction of salary as for most of the people its value is zero."
   ]
  },
  {
   "cell_type": "code",
   "execution_count": 11,
   "metadata": {},
   "outputs": [
    {
     "data": {
      "text/html": [
       "<div>\n",
       "<style>\n",
       "    .dataframe thead tr:only-child th {\n",
       "        text-align: right;\n",
       "    }\n",
       "\n",
       "    .dataframe thead th {\n",
       "        text-align: left;\n",
       "    }\n",
       "\n",
       "    .dataframe tbody tr th {\n",
       "        vertical-align: top;\n",
       "    }\n",
       "</style>\n",
       "<table border=\"1\" class=\"dataframe\">\n",
       "  <thead>\n",
       "    <tr style=\"text-align: right;\">\n",
       "      <th></th>\n",
       "      <th>Age</th>\n",
       "      <th>Workclass</th>\n",
       "      <th>fnlwgt</th>\n",
       "      <th>Education-Num</th>\n",
       "      <th>Martial Status</th>\n",
       "      <th>Occupation</th>\n",
       "      <th>Relationship</th>\n",
       "      <th>Race</th>\n",
       "      <th>Sex</th>\n",
       "      <th>Hours per week</th>\n",
       "      <th>Country</th>\n",
       "      <th>Target</th>\n",
       "    </tr>\n",
       "  </thead>\n",
       "  <tbody>\n",
       "    <tr>\n",
       "      <th>0</th>\n",
       "      <td>39</td>\n",
       "      <td>6</td>\n",
       "      <td>77516</td>\n",
       "      <td>13</td>\n",
       "      <td>4</td>\n",
       "      <td>0</td>\n",
       "      <td>1</td>\n",
       "      <td>4</td>\n",
       "      <td>1</td>\n",
       "      <td>40.0</td>\n",
       "      <td>37</td>\n",
       "      <td>0</td>\n",
       "    </tr>\n",
       "    <tr>\n",
       "      <th>1</th>\n",
       "      <td>50</td>\n",
       "      <td>5</td>\n",
       "      <td>83311</td>\n",
       "      <td>13</td>\n",
       "      <td>2</td>\n",
       "      <td>3</td>\n",
       "      <td>0</td>\n",
       "      <td>4</td>\n",
       "      <td>1</td>\n",
       "      <td>13.0</td>\n",
       "      <td>37</td>\n",
       "      <td>0</td>\n",
       "    </tr>\n",
       "    <tr>\n",
       "      <th>2</th>\n",
       "      <td>38</td>\n",
       "      <td>3</td>\n",
       "      <td>215646</td>\n",
       "      <td>9</td>\n",
       "      <td>0</td>\n",
       "      <td>5</td>\n",
       "      <td>1</td>\n",
       "      <td>4</td>\n",
       "      <td>1</td>\n",
       "      <td>40.0</td>\n",
       "      <td>37</td>\n",
       "      <td>0</td>\n",
       "    </tr>\n",
       "    <tr>\n",
       "      <th>3</th>\n",
       "      <td>53</td>\n",
       "      <td>3</td>\n",
       "      <td>234721</td>\n",
       "      <td>7</td>\n",
       "      <td>2</td>\n",
       "      <td>5</td>\n",
       "      <td>0</td>\n",
       "      <td>2</td>\n",
       "      <td>1</td>\n",
       "      <td>40.0</td>\n",
       "      <td>37</td>\n",
       "      <td>0</td>\n",
       "    </tr>\n",
       "    <tr>\n",
       "      <th>4</th>\n",
       "      <td>28</td>\n",
       "      <td>3</td>\n",
       "      <td>338409</td>\n",
       "      <td>13</td>\n",
       "      <td>2</td>\n",
       "      <td>9</td>\n",
       "      <td>5</td>\n",
       "      <td>2</td>\n",
       "      <td>0</td>\n",
       "      <td>40.0</td>\n",
       "      <td>4</td>\n",
       "      <td>0</td>\n",
       "    </tr>\n",
       "  </tbody>\n",
       "</table>\n",
       "</div>"
      ],
      "text/plain": [
       "   Age  Workclass  fnlwgt  Education-Num  Martial Status  Occupation  \\\n",
       "0   39          6   77516             13               4           0   \n",
       "1   50          5   83311             13               2           3   \n",
       "2   38          3  215646              9               0           5   \n",
       "3   53          3  234721              7               2           5   \n",
       "4   28          3  338409             13               2           9   \n",
       "\n",
       "   Relationship  Race  Sex  Hours per week  Country  Target  \n",
       "0             1     4    1            40.0       37       0  \n",
       "1             0     4    1            13.0       37       0  \n",
       "2             1     4    1            40.0       37       0  \n",
       "3             0     2    1            40.0       37       0  \n",
       "4             5     2    0            40.0        4       0  "
      ]
     },
     "execution_count": 11,
     "metadata": {},
     "output_type": "execute_result"
    }
   ],
   "source": [
    "data.drop(['Education', 'Capital Gain', 'Capital Loss'], axis = 1, inplace = True)\n",
    "data.head()"
   ]
  },
  {
   "cell_type": "markdown",
   "metadata": {},
   "source": [
    "Our predictor variables are the first 11 parameters and the target variable is the last parameters which determine whether the salary of a person is less than or more than 50K. \n",
    "\n",
    "It is necessary to create separate *nd arrays* for predictor and target variables in order to train them on different statistical learning algorithms using *sklearn* library"
   ]
  },
  {
   "cell_type": "code",
   "execution_count": 12,
   "metadata": {
    "collapsed": true
   },
   "outputs": [],
   "source": [
    "#converting the dataset into predictor and target arrays\n",
    "array = data.values\n",
    "X = array[:, 0:11]\n",
    "Y = array[:, 11]"
   ]
  },
  {
   "cell_type": "markdown",
   "metadata": {},
   "source": [
    "### Determining the important features\n",
    "\n",
    "We can determine the potential or importance of each feature in predicting the target variable using the *ExtraTreesClassifier* class in sklearn ensembles. Though there are many algorithms to select the best features such as *Recursive Feature Elimination* and *Principal Component Analysis* it is better to use ExtraTreesClassifier when you are planning to deploy Decision Tree Classification."
   ]
  },
  {
   "cell_type": "code",
   "execution_count": 13,
   "metadata": {},
   "outputs": [
    {
     "name": "stdout",
     "output_type": "stream",
     "text": [
      "[ 0.17934446  0.05316964  0.18672492  0.14219879  0.09248251  0.09302247\n",
      "  0.07314364  0.0178865   0.03032723  0.11052004  0.02117979]\n"
     ]
    }
   ],
   "source": [
    "model1 = ske.ExtraTreesClassifier()\n",
    "model1.fit(X,Y)\n",
    "print(model1.feature_importances_)"
   ]
  },
  {
   "cell_type": "markdown",
   "metadata": {},
   "source": [
    "The least importatnt features are **Country**, **Sex**, **Race** and **Workclass**"
   ]
  },
  {
   "cell_type": "markdown",
   "metadata": {},
   "source": [
    "### K-fold Cross-Validation\n",
    "\n",
    "K-fold is the most reliable algorithm for evaluation of any Machine Learning Technique. Is divides the dataset into k random splits and at each iteration it uses one piece to test and rest of the other to train. The process goes on till the algorithm is tested k times. Finally, it returns mean value of scores of each of the k iterations.\n",
    "\n",
    "We are using K-Fold cross-validation with 10 splits of the dataset and a seed value of 7 in order to get consistent results"
   ]
  },
  {
   "cell_type": "code",
   "execution_count": 14,
   "metadata": {
    "collapsed": true
   },
   "outputs": [],
   "source": [
    "seed = 7 \n",
    "kfold = KFold(n_splits=10, random_state=seed) "
   ]
  },
  {
   "cell_type": "markdown",
   "metadata": {},
   "source": [
    "## Improving Decision Tree through Bagging\n",
    "\n",
    "Bagging reduces the variance of the DesisionTreeClassifier and gives better results. It takes multiple samples of trees from the same training dataset and returns the mean value. The number of trees B is not a critical parameter with bagging; using a very large value of B will not lead to overﬁtting. In practice, we use a value of B suﬃciently large that the error has settled down. Using B = 100 is suﬃcient to achieve good performance in this example."
   ]
  },
  {
   "cell_type": "code",
   "execution_count": 15,
   "metadata": {},
   "outputs": [
    {
     "name": "stdout",
     "output_type": "stream",
     "text": [
      "0.818836183122\n"
     ]
    }
   ],
   "source": [
    "base = DecisionTreeClassifier() \n",
    "\n",
    "#specifying the number of bagged trees as 100\n",
    "model2 = ske.BaggingClassifier(base_estimator=base, n_estimators= 100, random_state=seed) \n",
    "results2 = cross_val_score(model2, X, Y, cv=kfold) \n",
    "print(results2.mean())"
   ]
  },
  {
   "cell_type": "markdown",
   "metadata": {},
   "source": [
    "## Further improving the results through Random Forests\n",
    "\n",
    "In bagging, most of the trees will use the strong predictor in the top split. Consequently, all of the bagged trees will look quite similar to each other and results in correlation among trees. Random forests further reduce the variance by *decorrelating* bagged trees. When building these decision trees, each time a split in a tree is considered, a random sample of m predictors is chosen as split candidates from the full set of p predictors. The split is allowed to use only one of those m predictors. A fresh sample of m predictors is taken at each split, and typically we choose m ≈√p—that is, the number of predictors considered at each split is approximately equal to the square root of the total number of predictors. In our case the √11 = 3.31.  "
   ]
  },
  {
   "cell_type": "markdown",
   "metadata": {},
   "source": [
    "### Determining the best parameters for Random Forests\n",
    "\n",
    "There are certain parameters associated with the *RandomForestsClassifier* class of sklearn. We need to determine the best combination of those parameters in order to get accurate results.\n",
    "\n",
    "Following code displays different parameters of RandomForestsClassifier and their default values."
   ]
  },
  {
   "cell_type": "code",
   "execution_count": 16,
   "metadata": {},
   "outputs": [
    {
     "name": "stdout",
     "output_type": "stream",
     "text": [
      "Parameters currently in use:\n",
      "\n",
      "{'bootstrap': True, 'class_weight': None, 'criterion': 'gini', 'max_depth': None, 'max_features': 'auto', 'max_leaf_nodes': None, 'min_impurity_decrease': 0.0, 'min_impurity_split': None, 'min_samples_leaf': 1, 'min_samples_split': 2, 'min_weight_fraction_leaf': 0.0, 'n_estimators': 10, 'n_jobs': 1, 'oob_score': False, 'random_state': 42, 'verbose': 0, 'warm_start': False}\n"
     ]
    }
   ],
   "source": [
    "rf = ske.RandomForestClassifier(random_state = 42)\n",
    "\n",
    "# Look at parameters used by our current forest\n",
    "print('Parameters currently in use:\\n')\n",
    "print(rf.get_params())"
   ]
  },
  {
   "cell_type": "markdown",
   "metadata": {},
   "source": [
    "#### Using Random Search with Cross-Validation\n",
    "\n",
    "It performs a randomized search on hyperparameters. The parameters of the estimator used to apply these methods are optimized by a cross-validated search over parameter settings. Each parameter is explained in the code below."
   ]
  },
  {
   "cell_type": "code",
   "execution_count": 17,
   "metadata": {},
   "outputs": [
    {
     "name": "stdout",
     "output_type": "stream",
     "text": [
      "{'n_estimators': [200, 400, 600, 800, 1000, 1200, 1400, 1600, 1800, 2000], 'max_features': ['auto'], 'max_depth': [10, 20, 30, 40, 50, 60, 70, 80, 90, 100, 110, None], 'min_samples_split': [2, 5, 10], 'min_samples_leaf': [1, 2, 4], 'bootstrap': [True, False]}\n"
     ]
    }
   ],
   "source": [
    "# Number of trees in random forest\n",
    "n_estimators = [int(x) for x in np.linspace(start = 200, stop = 2000, num = 10)]\n",
    "\n",
    "# Number of features to consider at every split\n",
    "max_features = ['auto']\n",
    "\n",
    "# Maximum number of levels in tree\n",
    "max_depth = [int(x) for x in np.linspace(10, 110, num = 11)]\n",
    "max_depth.append(None)\n",
    "\n",
    "# Minimum number of samples required to split a node\n",
    "min_samples_split = [2, 5, 10]\n",
    "\n",
    "# Minimum number of samples required at each leaf node\n",
    "min_samples_leaf = [1, 2, 4]\n",
    "\n",
    "# Method of selecting samples for training each tree\n",
    "bootstrap = [True, False]\n",
    "\n",
    "# Create the random grid\n",
    "random_grid = {'n_estimators': n_estimators,\n",
    "               'max_features': max_features,\n",
    "               'max_depth': max_depth,\n",
    "               'min_samples_split': min_samples_split,\n",
    "               'min_samples_leaf': min_samples_leaf,\n",
    "               'bootstrap': bootstrap}\n",
    "\n",
    "print(random_grid)"
   ]
  },
  {
   "cell_type": "code",
   "execution_count": 14,
   "metadata": {},
   "outputs": [
    {
     "name": "stdout",
     "output_type": "stream",
     "text": [
      "Fitting 3 folds for each of 100 candidates, totalling 300 fits\n"
     ]
    },
    {
     "name": "stderr",
     "output_type": "stream",
     "text": [
      "[Parallel(n_jobs=-1)]: Done  25 tasks      | elapsed:  2.6min\n",
      "[Parallel(n_jobs=-1)]: Done 146 tasks      | elapsed: 10.8min\n",
      "[Parallel(n_jobs=-1)]: Done 300 out of 300 | elapsed: 22.3min finished\n"
     ]
    },
    {
     "data": {
      "text/plain": [
       "{'bootstrap': True,\n",
       " 'max_depth': 10,\n",
       " 'max_features': 'auto',\n",
       " 'min_samples_leaf': 1,\n",
       " 'min_samples_split': 10,\n",
       " 'n_estimators': 2000}"
      ]
     },
     "execution_count": 14,
     "metadata": {},
     "output_type": "execute_result"
    }
   ],
   "source": [
    "from sklearn.model_selection import RandomizedSearchCV\n",
    "\n",
    "# Use the random grid to search for best hyperparameters\n",
    "# First create the base model to tune\n",
    "rf = ske.RandomForestClassifier(random_state = 42)\n",
    "\n",
    "# Random search of parameters, using 3 fold cross validation, \n",
    "# search across 100 different combinations, and use all available cores\n",
    "# accuracy scoring is used, suitable for classification setting\n",
    "rf_random = RandomizedSearchCV(estimator=rf, param_distributions=random_grid,\n",
    "                              n_iter = 100, scoring='accuracy', \n",
    "                              cv = 3, verbose=2, random_state=42, n_jobs= -1,\n",
    "                              return_train_score=True)\n",
    "\n",
    "# Fit the random search model\n",
    "rf_random.fit(X, Y);\n",
    "\n",
    "rf_random.best_params_"
   ]
  },
  {
   "cell_type": "markdown",
   "metadata": {},
   "source": [
    "#### Deploying the Random Forests with the best parametes derived from RandomizedSreachCV"
   ]
  },
  {
   "cell_type": "code",
   "execution_count": 20,
   "metadata": {},
   "outputs": [
    {
     "name": "stdout",
     "output_type": "stream",
     "text": [
      "0.837151494968\n"
     ]
    }
   ],
   "source": [
    "# using random selection on 3 features and classification with 100 trees\n",
    "model3 = ske.RandomForestClassifier(n_estimators= 2000, max_depth = 10, min_samples_split = 10, min_samples_leaf = 1,\n",
    "                                    bootstrap = True, random_state = seed ) \n",
    "results3 = cross_val_score(model3, X, Y, cv=kfold) \n",
    "\n",
    "# mean() method return the mean value of the accuracy\n",
    "# can be converted into percentage by multiplying with 100\n",
    "print(results3.mean())"
   ]
  },
  {
   "cell_type": "code",
   "execution_count": 21,
   "metadata": {},
   "outputs": [
    {
     "name": "stdout",
     "output_type": "stream",
     "text": [
      "0.00669766350404\n"
     ]
    }
   ],
   "source": [
    "print(results3.std())"
   ]
  },
  {
   "cell_type": "markdown",
   "metadata": {},
   "source": [
    "## Boosting Algorithms\n",
    "\n",
    "Here trees are constructed in a sequence with improvement in each step. Boosting Algorithms are usually slower than bagging but they could be more accurate. Let us See!!"
   ]
  },
  {
   "cell_type": "markdown",
   "metadata": {},
   "source": [
    "### Gradient Boosting \n",
    "\n",
    "Gradient boosting (GB) is a machine learning algorithm developed in the late '90s that is still very popular. It produces state-of-the-art results for many commercial (and academic) applications.\n",
    "\n",
    "The aim of gradient boosting is to create (or \"train\") an ensemble of trees, given that we know how to train a single decision tree. This technique is called boosting because we expect an ensemble to work much better than a single estimator."
   ]
  },
  {
   "cell_type": "markdown",
   "metadata": {},
   "source": [
    "### Determining the best parameters for Gradient Boosting\n",
    "\n",
    "Earlier we determined the best set of parameters for Random Forests. Similarly, using RandomizedSrearchCV we can obtain the best parameters for Gradient Boosting as well. The best parameters obtained are as follows:\n",
    "\n",
    "{'max_depth': 3,  \n",
    " 'min_samples_leaf': 2,  \n",
    " 'min_samples_split': 10,  \n",
    " 'n_estimators': 200,  \n",
    " 'warm_start': True}\n",
    " \n",
    "#### Deploying the GradientBoostingClassifier with the best parameters derived from RandomizedSreachCV"
   ]
  },
  {
   "cell_type": "code",
   "execution_count": 15,
   "metadata": {},
   "outputs": [
    {
     "name": "stdout",
     "output_type": "stream",
     "text": [
      "0.839600214385\n"
     ]
    }
   ],
   "source": [
    "#gradient Boosting\n",
    "model5 = ske.GradientBoostingClassifier(max_depth = 3, min_samples_leaf = 2, min_samples_split = 10,\n",
    "                                        warm_start = True, n_estimators= 200, random_state = 42)\n",
    "results5 = cross_val_score(model5, X, Y, cv=kfold) \n",
    "print(results5.mean())"
   ]
  }
 ],
 "metadata": {
  "kernelspec": {
   "display_name": "Python 3",
   "language": "python",
   "name": "python3"
  },
  "language_info": {
   "codemirror_mode": {
    "name": "ipython",
    "version": 3
   },
   "file_extension": ".py",
   "mimetype": "text/x-python",
   "name": "python",
   "nbconvert_exporter": "python",
   "pygments_lexer": "ipython3",
   "version": "3.6.3"
  }
 },
 "nbformat": 4,
 "nbformat_minor": 2
}
